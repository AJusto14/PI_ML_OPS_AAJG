{
 "cells": [
  {
   "cell_type": "code",
   "execution_count": null,
   "metadata": {},
   "outputs": [],
   "source": [
    "#Importamos las librerías\n",
    "import pandas as pd"
   ]
  },
  {
   "cell_type": "code",
   "execution_count": null,
   "metadata": {},
   "outputs": [],
   "source": [
    "#Cargamos el dataset 'creditos' desde un archivo CSV (archivo completo)\n",
    "df_completo = pd.read_csv('Dataset/Datos Originales/credits - copia.csv')"
   ]
  },
  {
   "cell_type": "code",
   "execution_count": null,
   "metadata": {},
   "outputs": [],
   "source": [
    "#Le damos un vistazo a los datos\n",
    "df_completo.info()"
   ]
  },
  {
   "attachments": {},
   "cell_type": "markdown",
   "metadata": {},
   "source": [
    "### CREW"
   ]
  },
  {
   "cell_type": "code",
   "execution_count": null,
   "metadata": {},
   "outputs": [],
   "source": [
    "'''\n",
    "Aquí de la columna CREW combina el índice con el contenido de la columna CREW, es la forma correcta de hacerlo\n",
    "'''\n",
    "\n",
    "#Indicamos que columnas son las que vamos a necesitar, iniciaremos con la columna CREW\n",
    "columna_crew = 'crew'\n",
    "#Indicamos cuales son las columnas con las que vamos a trabajar\n",
    "columnas = ['credit_id', 'department', 'gender', 'id', 'job', 'name', 'profile_path']\n",
    "#Indicamos cual será nuestro ID\n",
    "columna_id = 'id'\n",
    "\n",
    "#Ahora, comenzamos creando un diccionario vacío que será donde almacenaremos los valores de las columnas\n",
    "columnas_valores = {col: [] for col in columnas}\n",
    "\n",
    "#Creamos una lista vacía para almacenar los índices\n",
    "indices = []\n",
    "\n",
    "#Ahora toca recorrer las filas del dataFrame\n",
    "for index, row in df_completo.iterrows():\n",
    "    #Como resultado, obntenemos el valor de la columna 'crew'\n",
    "    crew = row[columna_crew]\n",
    "    \n",
    "    #Convertimos la cadena en una lista de diccionarios\n",
    "    datos = eval(crew)\n",
    "    \n",
    "    #Obtenemos el valor del índice\n",
    "    indice = int(row[columna_id])\n",
    "    \n",
    "    #Recorremos los diccionarios de la lista y agregamos los valores a las columnas correspondientes\n",
    "    for diccionario in datos:\n",
    "        for col in columnas:\n",
    "            columnas_valores[col].append(diccionario.get(col, None))\n",
    "    \n",
    "    #Agregammos ahora el índice tantas veces como se expanda la lista de diccionarios\n",
    "    num_filas = len(datos)\n",
    "    indices.extend([indice] * num_filas)\n",
    "\n",
    "#Finalmente creamos el dataFrame a partir del diccionario junto con los índices\n",
    "df_resultado_3 = pd.DataFrame(columnas_valores, index=indices)\n",
    "\n",
    "#Comprobamos el resultado, vemos el dataFrame resultante\n",
    "df_resultado_3.tail(10)"
   ]
  },
  {
   "cell_type": "code",
   "execution_count": null,
   "metadata": {},
   "outputs": [],
   "source": [
    "#CREW se guardó correctamente con el índice que queríamos\n",
    "df_resultado_3.to_csv('Dataset/limpios/crew_2 (con indice).csv', index_label='id')"
   ]
  },
  {
   "cell_type": "code",
   "execution_count": null,
   "metadata": {},
   "outputs": [],
   "source": [
    "#Revisamos que sea cierto, lo cargamos en la variable\n",
    "crew_2 = pd.read_csv('Dataset/limpios/crew_2 (con indice).csv')"
   ]
  },
  {
   "cell_type": "code",
   "execution_count": null,
   "metadata": {},
   "outputs": [],
   "source": [
    "#Revisamos y si se cargó bien\n",
    "crew_2.head()"
   ]
  },
  {
   "attachments": {},
   "cell_type": "markdown",
   "metadata": {},
   "source": [
    "### CAST"
   ]
  },
  {
   "cell_type": "code",
   "execution_count": null,
   "metadata": {},
   "outputs": [],
   "source": [
    "'''\n",
    "Aquí de la columna CAST combina el índice con el contenido de la columna CAST, es la forma correcta de hacerlo\n",
    "'''\n",
    "\n",
    "#Cargamos las columnas como se hizo anteriormente con CREW\n",
    "columna_cast = 'cast'\n",
    "columnas_c = ['cast_id', 'character', 'credit_id', 'gender', 'id', 'name', 'order', 'profile_path']\n",
    "columna_id = 'id'\n",
    "\n",
    "#Creamos un diccionario vacío para almacenar los valores de las columnas\n",
    "columnas_valores_cast = {col_c: [] for col_c in columnas_c}\n",
    "\n",
    "#Creamos una lista vacía para almacenar los índices\n",
    "indices_c = []\n",
    "\n",
    "#Recorremos las filas del dataFrame\n",
    "for index, row in df_completo.iterrows():\n",
    "    #Obtenemos el valor de la columna 'cast'\n",
    "    cast_c = row[columna_cast]\n",
    "    \n",
    "    #Convertimos la cadena en una lista de diccionarios\n",
    "    datos_c = eval(cast_c)\n",
    "    \n",
    "    #Obtenemos el valor del índice\n",
    "    indice = int(row[columna_id])\n",
    "    \n",
    "    #Recorremos los diccionarios de la lista y agregamos los valores a las columnas correspondientes\n",
    "    for diccionario in datos_c:\n",
    "        for col_c in columnas_c:\n",
    "            columnas_valores_cast[col_c].append(diccionario.get(col_c, None))\n",
    "    \n",
    "    #Agregamos el índice tantas veces como se expanda la lista de diccionarios\n",
    "    num_filas = len(datos_c)\n",
    "    indices_c.extend([indice] * num_filas)\n",
    "\n",
    "#Creamos el dataFrame a partir del diccionario columnas_valores y los índices\n",
    "df_resultado_4 = pd.DataFrame(columnas_valores_cast, index=indices_c)"
   ]
  },
  {
   "cell_type": "code",
   "execution_count": null,
   "metadata": {},
   "outputs": [],
   "source": [
    "#Guardamos CAST en un archivo CSV, es el resultado de lo hecho antes, mira como el index_label es igual a 'id'\n",
    "#esto es para que el que se declaró se conserve, sin eso, elimina esa parte y lo guarda sin índice\n",
    "df_resultado_4.to_csv('Dataset/limpios/cast_2 (con indice).csv', index_label='id')"
   ]
  },
  {
   "cell_type": "code",
   "execution_count": null,
   "metadata": {},
   "outputs": [],
   "source": [
    "#Revisamos que sea cierto, lo cargamos en la variable\n",
    "cast_2 = pd.read_csv('Dataset/limpios/cast_2 (con indice).csv')"
   ]
  },
  {
   "cell_type": "code",
   "execution_count": null,
   "metadata": {},
   "outputs": [],
   "source": [
    "#Revisamos y si se cargó bien\n",
    "cast_2.head()"
   ]
  }
 ],
 "metadata": {
  "language_info": {
   "name": "python"
  },
  "orig_nbformat": 4
 },
 "nbformat": 4,
 "nbformat_minor": 2
}
